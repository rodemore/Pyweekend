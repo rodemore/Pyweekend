{
 "cells": [
  {
   "cell_type": "markdown",
   "metadata": {},
   "source": [
    "## UTILIZANDO SWAPI CON PYTHON"
   ]
  },
  {
   "cell_type": "code",
   "execution_count": 2,
   "metadata": {},
   "outputs": [],
   "source": [
    "import swapi\n",
    "import pandas as pd"
   ]
  },
  {
   "cell_type": "markdown",
   "metadata": {},
   "source": [
    "#### Extraer personajes mediante el metodo get_person(id)"
   ]
  },
  {
   "cell_type": "code",
   "execution_count": 3,
   "metadata": {},
   "outputs": [],
   "source": [
    "luke = swapi.get_person(1)"
   ]
  },
  {
   "cell_type": "code",
   "execution_count": 4,
   "metadata": {},
   "outputs": [
    {
     "data": {
      "text/plain": [
       "'Luke Skywalker'"
      ]
     },
     "execution_count": 4,
     "metadata": {},
     "output_type": "execute_result"
    }
   ],
   "source": [
    "luke.name"
   ]
  },
  {
   "cell_type": "code",
   "execution_count": 5,
   "metadata": {},
   "outputs": [
    {
     "data": {
      "text/plain": [
       "'172'"
      ]
     },
     "execution_count": 5,
     "metadata": {},
     "output_type": "execute_result"
    }
   ],
   "source": [
    "luke.height"
   ]
  },
  {
   "cell_type": "code",
   "execution_count": 6,
   "metadata": {},
   "outputs": [
    {
     "data": {
      "text/plain": [
       "'https://swapi.co/api/planets/1/'"
      ]
     },
     "execution_count": 6,
     "metadata": {},
     "output_type": "execute_result"
    }
   ],
   "source": [
    "luke.homeworld"
   ]
  },
  {
   "cell_type": "markdown",
   "metadata": {},
   "source": [
    "En el caso de planeta y de especie no se retornan nombres sino links, aprovechando los id del planeta y especie crearé funciones que permitan obtenerlos directamente."
   ]
  },
  {
   "cell_type": "code",
   "execution_count": 7,
   "metadata": {},
   "outputs": [],
   "source": [
    "def nombrePlaneta(link):\n",
    "    id = link.split(\"/\")[-2]\n",
    "    return swapi.get_planet(id).name"
   ]
  },
  {
   "cell_type": "code",
   "execution_count": 8,
   "metadata": {},
   "outputs": [
    {
     "data": {
      "text/plain": [
       "'Alderaan'"
      ]
     },
     "execution_count": 8,
     "metadata": {},
     "output_type": "execute_result"
    }
   ],
   "source": [
    "nombrePlaneta(\"https://swapi.co/api/films/2/\")\n"
   ]
  },
  {
   "cell_type": "code",
   "execution_count": 9,
   "metadata": {},
   "outputs": [],
   "source": [
    "def nombreEspecie(link):\n",
    "    id = link.split(\"/\")[-2]\n",
    "    return swapi.get_species(id).name"
   ]
  },
  {
   "cell_type": "code",
   "execution_count": 10,
   "metadata": {},
   "outputs": [
    {
     "data": {
      "text/plain": [
       "'Human'"
      ]
     },
     "execution_count": 10,
     "metadata": {},
     "output_type": "execute_result"
    }
   ],
   "source": [
    "nombreEspecie(\"https://swapi.co/api/species/1/\")"
   ]
  },
  {
   "cell_type": "code",
   "execution_count": 12,
   "metadata": {},
   "outputs": [
    {
     "data": {
      "text/plain": [
       "dict_keys(['name', 'height', 'mass', 'hair_color', 'eye_color', 'planet', 'films', 'specie'])"
      ]
     },
     "execution_count": 12,
     "metadata": {},
     "output_type": "execute_result"
    }
   ],
   "source": [
    "dicc = {\"name\": [], \"height\": [] , \"mass\": [] , \"hair_color\": [], \"eye_color\": [] , \"planet\":[], \"films\": [], \"specie\":[]} \n",
    "dicc.keys()"
   ]
  },
  {
   "cell_type": "code",
   "execution_count": 13,
   "metadata": {},
   "outputs": [
    {
     "name": "stdout",
     "output_type": "stream",
     "text": [
      "El personaje con id = 17 no existe\n",
      "El personaje con id = 39 no existe\n",
      "El personaje con id = 42 no existe\n",
      "El personaje con id = 75 no existe\n"
     ]
    }
   ],
   "source": [
    "for id in range(1,82):\n",
    "    try:\n",
    "        character = swapi.get_person(id)\n",
    "        planet = nombrePlaneta(character.homeworld)\n",
    "        specie = nombreEspecie(character.species[0])\n",
    "        \n",
    "        dicc[\"name\"].append(character.name)\n",
    "        dicc[\"height\"].append(character.height)\n",
    "        dicc[\"mass\"].append(character.mass)\n",
    "        dicc[\"hair_color\"].append(character.hair_color)\n",
    "        dicc[\"eye_color\"].append(character.eye_color)\n",
    "        dicc[\"planet\"].append(planet)\n",
    "        dicc[\"films\"].append(len(character.films))\n",
    "        dicc[\"specie\"].append(specie)\n",
    "    except:\n",
    "        print(\"El personaje con id = \"+str(id)+\" no existe\")\n",
    "        "
   ]
  },
  {
   "cell_type": "code",
   "execution_count": 14,
   "metadata": {},
   "outputs": [],
   "source": [
    "starWars = pd.DataFrame(dicc)\n",
    "starWarsOrd = starWars[[\"name\", \"specie\", \"planet\" ,\"films\", \"mass\", \"height\", \"hair_color\", \"eye_color\"]]  "
   ]
  },
  {
   "cell_type": "code",
   "execution_count": 15,
   "metadata": {},
   "outputs": [
    {
     "data": {
      "text/html": [
       "<div>\n",
       "<style scoped>\n",
       "    .dataframe tbody tr th:only-of-type {\n",
       "        vertical-align: middle;\n",
       "    }\n",
       "\n",
       "    .dataframe tbody tr th {\n",
       "        vertical-align: top;\n",
       "    }\n",
       "\n",
       "    .dataframe thead th {\n",
       "        text-align: right;\n",
       "    }\n",
       "</style>\n",
       "<table border=\"1\" class=\"dataframe\">\n",
       "  <thead>\n",
       "    <tr style=\"text-align: right;\">\n",
       "      <th></th>\n",
       "      <th>name</th>\n",
       "      <th>specie</th>\n",
       "      <th>planet</th>\n",
       "      <th>films</th>\n",
       "      <th>mass</th>\n",
       "      <th>height</th>\n",
       "      <th>hair_color</th>\n",
       "      <th>eye_color</th>\n",
       "    </tr>\n",
       "  </thead>\n",
       "  <tbody>\n",
       "    <tr>\n",
       "      <th>0</th>\n",
       "      <td>Luke Skywalker</td>\n",
       "      <td>Human</td>\n",
       "      <td>Tatooine</td>\n",
       "      <td>5</td>\n",
       "      <td>77</td>\n",
       "      <td>172</td>\n",
       "      <td>blond</td>\n",
       "      <td>blue</td>\n",
       "    </tr>\n",
       "    <tr>\n",
       "      <th>1</th>\n",
       "      <td>C-3PO</td>\n",
       "      <td>Droid</td>\n",
       "      <td>Tatooine</td>\n",
       "      <td>6</td>\n",
       "      <td>75</td>\n",
       "      <td>167</td>\n",
       "      <td>n/a</td>\n",
       "      <td>yellow</td>\n",
       "    </tr>\n",
       "    <tr>\n",
       "      <th>2</th>\n",
       "      <td>R2-D2</td>\n",
       "      <td>Droid</td>\n",
       "      <td>Naboo</td>\n",
       "      <td>7</td>\n",
       "      <td>32</td>\n",
       "      <td>96</td>\n",
       "      <td>n/a</td>\n",
       "      <td>red</td>\n",
       "    </tr>\n",
       "    <tr>\n",
       "      <th>3</th>\n",
       "      <td>Darth Vader</td>\n",
       "      <td>Human</td>\n",
       "      <td>Tatooine</td>\n",
       "      <td>4</td>\n",
       "      <td>136</td>\n",
       "      <td>202</td>\n",
       "      <td>none</td>\n",
       "      <td>yellow</td>\n",
       "    </tr>\n",
       "    <tr>\n",
       "      <th>4</th>\n",
       "      <td>Leia Organa</td>\n",
       "      <td>Human</td>\n",
       "      <td>Alderaan</td>\n",
       "      <td>5</td>\n",
       "      <td>49</td>\n",
       "      <td>150</td>\n",
       "      <td>brown</td>\n",
       "      <td>brown</td>\n",
       "    </tr>\n",
       "  </tbody>\n",
       "</table>\n",
       "</div>"
      ],
      "text/plain": [
       "             name specie    planet  films mass height hair_color eye_color\n",
       "0  Luke Skywalker  Human  Tatooine      5   77    172      blond      blue\n",
       "1           C-3PO  Droid  Tatooine      6   75    167        n/a    yellow\n",
       "2           R2-D2  Droid     Naboo      7   32     96        n/a       red\n",
       "3     Darth Vader  Human  Tatooine      4  136    202       none    yellow\n",
       "4     Leia Organa  Human  Alderaan      5   49    150      brown     brown"
      ]
     },
     "execution_count": 15,
     "metadata": {},
     "output_type": "execute_result"
    }
   ],
   "source": [
    "starWarsOrd.head(5)"
   ]
  },
  {
   "cell_type": "code",
   "execution_count": 141,
   "metadata": {},
   "outputs": [],
   "source": [
    "starWars.to_pickle(\"StarWarsDf\") #Guardarlo como un dataFrame serializado"
   ]
  },
  {
   "cell_type": "code",
   "execution_count": 142,
   "metadata": {},
   "outputs": [],
   "source": [
    "starWars.to_csv(\"StarWars.csv\") #Guardarlo como un csv"
   ]
  },
  {
   "cell_type": "markdown",
   "metadata": {},
   "source": [
    "Para más información sobre los métodos de SWAPI en python: https://github.com/phalt/swapi-python"
   ]
  }
 ],
 "metadata": {
  "kernelspec": {
   "display_name": "Python 3",
   "language": "python",
   "name": "python3"
  },
  "language_info": {
   "codemirror_mode": {
    "name": "ipython",
    "version": 3
   },
   "file_extension": ".py",
   "mimetype": "text/x-python",
   "name": "python",
   "nbconvert_exporter": "python",
   "pygments_lexer": "ipython3",
   "version": "3.6.7"
  }
 },
 "nbformat": 4,
 "nbformat_minor": 2
}
